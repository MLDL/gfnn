{
 "cells": [
  {
   "cell_type": "code",
   "execution_count": 1,
   "metadata": {},
   "outputs": [],
   "source": [
    "import sys\n",
    "sys.path.append(\"..\")\n",
    "from utils import load_data\n",
    "from train import train_gfnn, test_regression\n",
    "import torch\n",
    "import torch.nn as nn\n",
    "from torch.nn import Module\n",
    "import torch.nn.functional as F\n",
    "import math\n",
    "from torch.nn.parameter import Parameter\n",
    "from torch.nn.modules.module import Module\n",
    "import numpy as np\n",
    "import networkx as nx\n",
    "from matplotlib import pyplot as plt\n",
    "import seaborn as sns"
   ]
  },
  {
   "cell_type": "code",
   "execution_count": 2,
   "metadata": {},
   "outputs": [],
   "source": [
    "from sklearn.linear_model import SGDClassifier\n",
    "from sklearn.neural_network import MLPClassifier\n",
    "from sklearn.svm import SVC"
   ]
  },
  {
   "cell_type": "code",
   "execution_count": 22,
   "metadata": {},
   "outputs": [],
   "source": [
    "from collections import Counter"
   ]
  },
  {
   "cell_type": "code",
   "execution_count": 3,
   "metadata": {},
   "outputs": [],
   "source": [
    "def rayleigh_i(X, M, index=0):\n",
    "    r = X[:,index].unsqueeze(0) @ torch.spmm(M, X[:,index].unsqueeze(1))\n",
    "    d = torch.norm(X[:,index], p=2).item()**2\n",
    "    if d == 0.0:\n",
    "        return 0\n",
    "    return r.item() / d"
   ]
  },
  {
   "cell_type": "code",
   "execution_count": 4,
   "metadata": {},
   "outputs": [],
   "source": [
    "def feature_transform(adj, X, k=1):\n",
    "    for i in range(k):\n",
    "        X = torch.spmm(adj, X)\n",
    "    return X"
   ]
  },
  {
   "cell_type": "code",
   "execution_count": 5,
   "metadata": {},
   "outputs": [],
   "source": [
    "def fourier_filter(U, X, indices=(0,100)):\n",
    "    i, j = indices\n",
    "    coeff = U[:,i:j].transpose(0,1) @ X\n",
    "    X_hat = U[:,i:j] @ coeff\n",
    "    return X_hat"
   ]
  },
  {
   "cell_type": "code",
   "execution_count": 52,
   "metadata": {},
   "outputs": [],
   "source": [
    "def print_info(dname):\n",
    "    gnx, normed_adj, X, y, idx_train, idx_val, idx_test = \\\n",
    "            load_data(dname, [''], split=\"default\")\n",
    "    print(\"Num nodes:\", gnx.number_of_nodes())\n",
    "    print(\"Num edges:\", gnx.number_of_edges())\n",
    "    print(\"Num comps:\", nx.number_connected_components(gnx))\n",
    "    p = max(nx.connected_components(gnx), key=len)\n",
    "    print(\"Largest connected component: {}, {}\".format(gnx.subgraph(p).number_of_nodes(), \n",
    "                                                       gnx.subgraph(p).number_of_edges()))\n",
    "    print(\"Num class:\", max(y).item()+1)\n",
    "    print(\"Split: {}/{}/{}\".format(len(idx_train), len(idx_val), len(idx_test)))\n",
    "    print(\"Class ratio (train):\")\n",
    "    count_class = Counter(y[idx_train].numpy())\n",
    "    m = max(1, min(count_class.values()))\n",
    "    for cls, cnt in count_class.items():\n",
    "        print(cls, cnt/m)\n",
    "    print(\"Class ratio (test):\")\n",
    "    count_class = Counter(y[idx_test].numpy())\n",
    "    m = max(1, min(count_class.values()))\n",
    "    for cls, cnt in count_class.items():\n",
    "        print(cls, cnt/m)\n",
    "    print(\"Feature dim:\", X.shape[1])"
   ]
  },
  {
   "cell_type": "code",
   "execution_count": 46,
   "metadata": {},
   "outputs": [
    {
     "name": "stdout",
     "output_type": "stream",
     "text": [
      "Num nodes: 2708\n",
      "Num edges: 5278\n",
      "Num comps: 78\n",
      "Largest connected component: 2485, 5069\n",
      "Num class: 7\n",
      "Split: 140/500/1000\n",
      "Class ratio (train):\n",
      "3 1.0\n",
      "4 1.0\n",
      "0 1.0\n",
      "2 1.0\n",
      "1 1.0\n",
      "5 1.0\n",
      "6 1.0\n",
      "Class ratio (test):\n",
      "3 4.984375\n",
      "2 2.25\n",
      "0 2.03125\n",
      "1 1.421875\n",
      "5 1.609375\n",
      "4 2.328125\n",
      "6 1.0\n",
      "Feature dim: 1433\n"
     ]
    }
   ],
   "source": [
    "print_info(\"cora\")"
   ]
  },
  {
   "cell_type": "code",
   "execution_count": 47,
   "metadata": {},
   "outputs": [
    {
     "name": "stdout",
     "output_type": "stream",
     "text": [
      "Num nodes: 3327\n",
      "Num edges: 4676\n",
      "Num comps: 438\n",
      "Largest connected component: 2120, 3731\n",
      "Num class: 6\n",
      "Split: 120/500/1000\n",
      "Class ratio (train):\n",
      "3 1.0\n",
      "1 1.0\n",
      "5 1.0\n",
      "0 1.0\n",
      "2 1.0\n",
      "4 1.0\n",
      "Class ratio (test):\n",
      "4 2.1948051948051948\n",
      "5 2.0779220779220777\n",
      "1 2.3636363636363638\n",
      "2 2.3506493506493507\n",
      "3 3.0\n",
      "0 1.0\n",
      "Feature dim: 3703\n"
     ]
    },
    {
     "name": "stderr",
     "output_type": "stream",
     "text": [
      "../normalization.py:79: RuntimeWarning: divide by zero encountered in power\n",
      "  r_inv = np.power(rowsum, -1).flatten()\n"
     ]
    }
   ],
   "source": [
    "print_info(\"citeseer\")"
   ]
  },
  {
   "cell_type": "code",
   "execution_count": 48,
   "metadata": {},
   "outputs": [
    {
     "name": "stdout",
     "output_type": "stream",
     "text": [
      "Num nodes: 19717\n",
      "Num edges: 44327\n",
      "Num comps: 1\n",
      "Largest connected component: 19717, 44327\n",
      "Num class: 3\n",
      "Split: 60/500/1000\n",
      "Class ratio (train):\n",
      "1 1.0\n",
      "0 1.0\n",
      "2 1.0\n",
      "Class ratio (test):\n",
      "2 2.261111111111111\n",
      "1 2.2944444444444443\n",
      "0 1.0\n",
      "Feature dim: 500\n"
     ]
    }
   ],
   "source": [
    "print_info(\"pubmed\")"
   ]
  },
  {
   "cell_type": "code",
   "execution_count": 50,
   "metadata": {},
   "outputs": [
    {
     "name": "stdout",
     "output_type": "stream",
     "text": [
      "Num nodes: 251\n",
      "Num edges: 450\n",
      "Num comps: 1\n",
      "Largest connected component: 251, 450\n",
      "Num class: 5\n",
      "Split: 15/50/186\n",
      "Class ratio (train):\n",
      "0 1.0\n",
      "2 1.0\n",
      "3 1.0\n",
      "4 1.0\n",
      "1 1.0\n",
      "Class ratio (test):\n",
      "1 8.285714285714286\n",
      "2 12.571428571428571\n",
      "3 3.0\n",
      "4 1.7142857142857142\n",
      "0 1.0\n",
      "Feature dim: 1703\n"
     ]
    }
   ],
   "source": [
    "print_info(\"wisconsin\")"
   ]
  },
  {
   "cell_type": "code",
   "execution_count": 51,
   "metadata": {},
   "outputs": [
    {
     "name": "stdout",
     "output_type": "stream",
     "text": [
      "Num nodes: 183\n",
      "Num edges: 277\n",
      "Num comps: 1\n",
      "Largest connected component: 183, 277\n",
      "Num class: 5\n",
      "Split: 13/50/120\n",
      "Class ratio (train):\n",
      "0 3.0\n",
      "1 1.0\n",
      "2 3.0\n",
      "3 3.0\n",
      "4 3.0\n",
      "Class ratio (test):\n",
      "0 2.888888888888889\n",
      "2 1.0\n",
      "3 7.111111111111111\n",
      "4 2.3333333333333335\n",
      "Feature dim: 1703\n"
     ]
    }
   ],
   "source": [
    "print_info(\"cornell\")"
   ]
  },
  {
   "cell_type": "markdown",
   "metadata": {},
   "source": [
    "# Wisconsin"
   ]
  },
  {
   "cell_type": "markdown",
   "metadata": {},
   "source": [
    "### A. Matching Rayleigh Quotient"
   ]
  },
  {
   "cell_type": "code",
   "execution_count": 53,
   "metadata": {},
   "outputs": [],
   "source": [
    "gnx, normed_adj, X, y, idx_train, idx_val, idx_test = \\\n",
    "            load_data(\"wisconsin\", ['', \"RwNorm\", \"SymNormLap\", \"AbsRwNormAdj\"], split=\"0.6_0.2_0.2\")"
   ]
  },
  {
   "cell_type": "code",
   "execution_count": 54,
   "metadata": {},
   "outputs": [
    {
     "data": {
      "text/plain": [
       "(450, 251)"
      ]
     },
     "execution_count": 54,
     "metadata": {},
     "output_type": "execute_result"
    }
   ],
   "source": [
    "gnx.number_of_edges(), gnx.number_of_nodes()"
   ]
  },
  {
   "cell_type": "code",
   "execution_count": 55,
   "metadata": {},
   "outputs": [
    {
     "data": {
      "text/plain": [
       "torch.Size([251, 1703])"
      ]
     },
     "execution_count": 55,
     "metadata": {},
     "output_type": "execute_result"
    }
   ],
   "source": [
    "X.shape"
   ]
  },
  {
   "cell_type": "code",
   "execution_count": 56,
   "metadata": {},
   "outputs": [],
   "source": [
    "yoh = F.one_hot(y, num_classes=5).float()"
   ]
  },
  {
   "cell_type": "code",
   "execution_count": 57,
   "metadata": {},
   "outputs": [
    {
     "name": "stdout",
     "output_type": "stream",
     "text": [
      "Mean: 0.8711169809948902, Std: 0.08134907967383795\n"
     ]
    }
   ],
   "source": [
    "labels_r = np.array([rayleigh_i(yoh, normed_adj[2], i) for i in range(5)])\n",
    "print(\"Mean: {}, Std: {}\".format(labels_r.mean(), labels_r.std()))"
   ]
  },
  {
   "cell_type": "code",
   "execution_count": 58,
   "metadata": {},
   "outputs": [
    {
     "data": {
      "text/plain": [
       "array([0.88452995, 0.76565834, 0.95448948, 0.96147201, 0.78943512])"
      ]
     },
     "execution_count": 58,
     "metadata": {},
     "output_type": "execute_result"
    }
   ],
   "source": [
    "labels_r"
   ]
  },
  {
   "cell_type": "code",
   "execution_count": 59,
   "metadata": {},
   "outputs": [
    {
     "name": "stdout",
     "output_type": "stream",
     "text": [
      "Mean: 0.8875631225248181, Std: 0.22910043780401002\n"
     ]
    }
   ],
   "source": [
    "X_r = np.array([rayleigh_i(X, normed_adj[2], i) for i in range(1703)])\n",
    "print(\"Mean: {}, Std: {}\".format(X_r.mean(), X_r.std()))"
   ]
  },
  {
   "cell_type": "code",
   "execution_count": 60,
   "metadata": {},
   "outputs": [
    {
     "name": "stdout",
     "output_type": "stream",
     "text": [
      "Mean: 0.5578994116868834, Std: 0.19553867073133502\n"
     ]
    }
   ],
   "source": [
    "X_RwNorm = feature_transform(normed_adj[1], X, k=1)\n",
    "X_RwNorm_r = np.array([rayleigh_i(X_RwNorm, normed_adj[2], i) for i in range(1703)])\n",
    "print(\"Mean: {}, Std: {}\".format(X_RwNorm_r.mean(), X_RwNorm_r.std()))"
   ]
  },
  {
   "cell_type": "code",
   "execution_count": 61,
   "metadata": {},
   "outputs": [
    {
     "name": "stdout",
     "output_type": "stream",
     "text": [
      "Mean: 0.6357707181787869, Std: 0.1792337162606236\n"
     ]
    }
   ],
   "source": [
    "X_RwNorm_r = np.array([rayleigh_i(X_RwNorm, normed_adj[1], i) for i in range(1703)])\n",
    "print(\"Mean: {}, Std: {}\".format(X_RwNorm_r.mean(), X_RwNorm_r.std()))"
   ]
  },
  {
   "cell_type": "code",
   "execution_count": 62,
   "metadata": {},
   "outputs": [
    {
     "name": "stdout",
     "output_type": "stream",
     "text": [
      "Mean: 0.5578994116868834, Std: 0.19553867073133502\n"
     ]
    }
   ],
   "source": [
    "X_AbsRwNormAdj = feature_transform(normed_adj[3], X, k=1)\n",
    "X_AbsRwNormAdj_r = np.array([rayleigh_i(X_AbsRwNormAdj, normed_adj[2], i) for i in range(1703)])\n",
    "print(\"Mean: {}, Std: {}\".format(X_AbsRwNormAdj_r.mean(), X_AbsRwNormAdj_r.std()))"
   ]
  },
  {
   "cell_type": "code",
   "execution_count": 63,
   "metadata": {},
   "outputs": [
    {
     "name": "stdout",
     "output_type": "stream",
     "text": [
      "Mean: 0.395488923841463, Std: 0.16178651837992697\n"
     ]
    }
   ],
   "source": [
    "X_RwNorm = feature_transform(normed_adj[1], X, k=2)\n",
    "X_RwNorm_r = np.array([rayleigh_i(X_RwNorm, normed_adj[2], i) for i in range(1703)])\n",
    "print(\"Mean: {}, Std: {}\".format(X_RwNorm_r.mean(), X_RwNorm_r.std()))"
   ]
  },
  {
   "cell_type": "markdown",
   "metadata": {},
   "source": [
    "Note: The filter makes the feature matches the rayleight quotient of the labels "
   ]
  },
  {
   "cell_type": "markdown",
   "metadata": {},
   "source": [
    "### B.  Eigendecomposition"
   ]
  },
  {
   "cell_type": "code",
   "execution_count": 64,
   "metadata": {},
   "outputs": [
    {
     "data": {
      "text/plain": [
       "1"
      ]
     },
     "execution_count": 64,
     "metadata": {},
     "output_type": "execute_result"
    }
   ],
   "source": [
    "nx.number_connected_components(gnx)"
   ]
  },
  {
   "cell_type": "code",
   "execution_count": 65,
   "metadata": {},
   "outputs": [],
   "source": [
    "l, v = np.linalg.eigh(nx.normalized_laplacian_matrix(gnx).A + 0.00001)\n",
    "l[np.where(l < 1e-10)] = 0\n",
    "idx = l.argsort()   \n",
    "l = l[idx]\n",
    "v = v[:,idx]"
   ]
  },
  {
   "cell_type": "code",
   "execution_count": 66,
   "metadata": {},
   "outputs": [],
   "source": [
    "v = torch.Tensor(v).float()"
   ]
  },
  {
   "cell_type": "code",
   "execution_count": 67,
   "metadata": {},
   "outputs": [
    {
     "data": {
      "text/plain": [
       "0.5566598176956177"
      ]
     },
     "execution_count": 67,
     "metadata": {},
     "output_type": "execute_result"
    }
   ],
   "source": [
    "rayleigh_i(v, normed_adj[2], 50)"
   ]
  },
  {
   "cell_type": "code",
   "execution_count": 68,
   "metadata": {},
   "outputs": [
    {
     "data": {
      "text/plain": [
       "1.910578874698238"
      ]
     },
     "execution_count": 68,
     "metadata": {},
     "output_type": "execute_result"
    }
   ],
   "source": [
    "l.max()"
   ]
  },
  {
   "cell_type": "code",
   "execution_count": 69,
   "metadata": {},
   "outputs": [
    {
     "data": {
      "text/plain": [
       "<matplotlib.axes._subplots.AxesSubplot at 0x7fb1229a8a10>"
      ]
     },
     "execution_count": 69,
     "metadata": {},
     "output_type": "execute_result"
    },
    {
     "data": {
      "image/png": "[encoded data removed]",
      "text/plain": [
       "<Figure size 1080x360 with 1 Axes>"
      ]
     },
     "metadata": {
      "needs_background": "light"
     },
     "output_type": "display_data"
    }
   ],
   "source": [
    "plt.figure(figsize=(15,5))\n",
    "sns.distplot(l, bins=100, kde=False, rug=False)"
   ]
  },
  {
   "cell_type": "code",
   "execution_count": 70,
   "metadata": {},
   "outputs": [
    {
     "data": {
      "text/plain": [
       "MLPClassifier(activation='relu', alpha=0.0001, batch_size='auto', beta_1=0.9,\n",
       "              beta_2=0.999, early_stopping=False, epsilon=1e-08,\n",
       "              hidden_layer_sizes=(100, 50), learning_rate='constant',\n",
       "              learning_rate_init=0.001, max_fun=15000, max_iter=20000,\n",
       "              momentum=0.9, n_iter_no_change=10, nesterovs_momentum=True,\n",
       "              power_t=0.5, random_state=None, shuffle=True, solver='adam',\n",
       "              tol=0.0001, validation_fraction=0.1, verbose=False,\n",
       "              warm_start=False)"
      ]
     },
     "execution_count": 70,
     "metadata": {},
     "output_type": "execute_result"
    }
   ],
   "source": [
    "clf = MLPClassifier(hidden_layer_sizes=(100, 50), max_iter=20000)\n",
    "feat = fourier_filter(v, X, indices=(50, 150))\n",
    "train_feat = feat[idx_train].numpy()\n",
    "val_feat = feat[idx_val].numpy()\n",
    "test_feat = feat[idx_test].numpy()\n",
    "\n",
    "clf.fit(train_feat, y[idx_train])"
   ]
  },
  {
   "cell_type": "code",
   "execution_count": 71,
   "metadata": {},
   "outputs": [
    {
     "data": {
      "text/plain": [
       "0.012"
      ]
     },
     "execution_count": 71,
     "metadata": {},
     "output_type": "execute_result"
    }
   ],
   "source": [
    "np.sum(clf.predict(test_feat) == y[idx_test].numpy()) / 1000"
   ]
  },
  {
   "cell_type": "code",
   "execution_count": 212,
   "metadata": {},
   "outputs": [
    {
     "data": {
      "text/plain": [
       "SVC(C=10000.0, break_ties=False, cache_size=200, class_weight=None, coef0=0.0,\n",
       "    decision_function_shape='ovr', degree=3, gamma='scale', kernel='rbf',\n",
       "    max_iter=-1, probability=False, random_state=None, shrinking=True,\n",
       "    tol=0.001, verbose=False)"
      ]
     },
     "execution_count": 212,
     "metadata": {},
     "output_type": "execute_result"
    }
   ],
   "source": [
    "clf = SVC(C=10000.0)\n",
    "# feat = fourier_filter(v, X, indices=(50, 150))\n",
    "train_feat = X[idx_train].numpy()\n",
    "val_feat = X[idx_val].numpy()\n",
    "test_feat = X[idx_test].numpy()\n",
    "\n",
    "clf.fit(train_feat, y[idx_train])"
   ]
  },
  {
   "cell_type": "code",
   "execution_count": 213,
   "metadata": {},
   "outputs": [
    {
     "data": {
      "text/plain": [
       "0.045"
      ]
     },
     "execution_count": 213,
     "metadata": {},
     "output_type": "execute_result"
    }
   ],
   "source": [
    "np.sum(clf.predict(test_feat) == y[idx_test].numpy()) / 1000"
   ]
  },
  {
   "cell_type": "markdown",
   "metadata": {},
   "source": [
    "Fit filtered features"
   ]
  },
  {
   "cell_type": "code",
   "execution_count": 196,
   "metadata": {},
   "outputs": [
    {
     "data": {
      "text/plain": [
       "MLPClassifier(activation='relu', alpha=0.0001, batch_size='auto', beta_1=0.9,\n",
       "              beta_2=0.999, early_stopping=False, epsilon=1e-08,\n",
       "              hidden_layer_sizes=(100, 50), learning_rate='constant',\n",
       "              learning_rate_init=0.001, max_fun=15000, max_iter=20000,\n",
       "              momentum=0.9, n_iter_no_change=10, nesterovs_momentum=True,\n",
       "              power_t=0.5, random_state=None, shuffle=True, solver='adam',\n",
       "              tol=0.0001, validation_fraction=0.1, verbose=False,\n",
       "              warm_start=False)"
      ]
     },
     "execution_count": 196,
     "metadata": {},
     "output_type": "execute_result"
    }
   ],
   "source": [
    "X_RwNorm = feature_transform(normed_adj[1], X, k=1)\n",
    "clf = MLPClassifier(hidden_layer_sizes=(100, 50), max_iter=20000)\n",
    "train_feat = X_RwNorm[idx_train].numpy()\n",
    "val_feat = X_RwNorm[idx_val].numpy()\n",
    "test_feat = X_RwNorm[idx_test].numpy()\n",
    "\n",
    "clf.fit(train_feat, y[idx_train])"
   ]
  },
  {
   "cell_type": "code",
   "execution_count": 197,
   "metadata": {},
   "outputs": [
    {
     "data": {
      "text/plain": [
       "0.026"
      ]
     },
     "execution_count": 197,
     "metadata": {},
     "output_type": "execute_result"
    }
   ],
   "source": [
    "np.sum(clf.predict(test_feat) == y[idx_test].numpy()) / 1000"
   ]
  },
  {
   "cell_type": "markdown",
   "metadata": {},
   "source": [
    "# Citeseer"
   ]
  },
  {
   "cell_type": "markdown",
   "metadata": {},
   "source": [
    "### A. Matching Rayleigh quotient"
   ]
  },
  {
   "cell_type": "code",
   "execution_count": 530,
   "metadata": {},
   "outputs": [
    {
     "name": "stderr",
     "output_type": "stream",
     "text": [
      "../normalization.py:79: RuntimeWarning: divide by zero encountered in power\n",
      "  r_inv = np.power(rowsum, -1).flatten()\n"
     ]
    }
   ],
   "source": [
    "gnx, normed_adj, X, y, idx_train, idx_val, idx_test = \\\n",
    "            load_data(\"citeseer\", ['', \"RwNorm\", \"SymNormLap\", \"AbsRwNormAdj\"])"
   ]
  },
  {
   "cell_type": "code",
   "execution_count": 531,
   "metadata": {},
   "outputs": [],
   "source": [
    "yoh = F.one_hot(y, num_classes=6).float()"
   ]
  },
  {
   "cell_type": "code",
   "execution_count": 532,
   "metadata": {},
   "outputs": [
    {
     "name": "stdout",
     "output_type": "stream",
     "text": [
      "Mean: 0.37658795671073975, Std: 0.11117576443748893\n"
     ]
    }
   ],
   "source": [
    "labels_r = np.array([rayleigh_i(yoh, normed_adj[2], i) for i in range(6)])\n",
    "print(\"Mean: {}, Std: {}\".format(labels_r.mean(), labels_r.std()))"
   ]
  },
  {
   "cell_type": "code",
   "execution_count": 533,
   "metadata": {},
   "outputs": [
    {
     "data": {
      "text/plain": [
       "array([0.60458063, 0.37608983, 0.39446794, 0.28630787, 0.32804129,\n",
       "       0.27004017])"
      ]
     },
     "execution_count": 533,
     "metadata": {},
     "output_type": "execute_result"
    }
   ],
   "source": [
    "labels_r"
   ]
  },
  {
   "cell_type": "code",
   "execution_count": 534,
   "metadata": {},
   "outputs": [
    {
     "name": "stdout",
     "output_type": "stream",
     "text": [
      "Mean: 0.8055648380693111, Std: 0.19417330372665548\n"
     ]
    }
   ],
   "source": [
    "X_r = np.array([rayleigh_i(X, normed_adj[2], i) for i in range(3703)])\n",
    "print(\"Mean: {}, Std: {}\".format(X_r.mean(), X_r.std()))"
   ]
  },
  {
   "cell_type": "code",
   "execution_count": 535,
   "metadata": {},
   "outputs": [
    {
     "name": "stdout",
     "output_type": "stream",
     "text": [
      "Mean: 0.32037138477031735, Std: 0.13754224668649165\n"
     ]
    }
   ],
   "source": [
    "X_RwNorm = feature_transform(normed_adj[1], X, k=1)\n",
    "X_RwNorm_r = np.array([rayleigh_i(X_RwNorm, normed_adj[2], i) for i in range(3703)])\n",
    "print(\"Mean: {}, Std: {}\".format(X_RwNorm_r.mean(), X_RwNorm_r.std()))"
   ]
  },
  {
   "cell_type": "code",
   "execution_count": 536,
   "metadata": {},
   "outputs": [
    {
     "name": "stdout",
     "output_type": "stream",
     "text": [
      "Mean: 0.17920855110772774, Std: 0.09094552240239674\n"
     ]
    }
   ],
   "source": [
    "X_RwNorm = feature_transform(normed_adj[1], X, k=2)\n",
    "X_RwNorm_r = np.array([rayleigh_i(X_RwNorm, normed_adj[2], i) for i in range(3703)])\n",
    "print(\"Mean: {}, Std: {}\".format(X_RwNorm_r.mean(), X_RwNorm_r.std()))"
   ]
  },
  {
   "cell_type": "markdown",
   "metadata": {},
   "source": [
    "### B. Eigendecomposition"
   ]
  },
  {
   "cell_type": "code",
   "execution_count": 537,
   "metadata": {},
   "outputs": [
    {
     "data": {
      "text/plain": [
       "438"
      ]
     },
     "execution_count": 537,
     "metadata": {},
     "output_type": "execute_result"
    }
   ],
   "source": [
    "nx.number_connected_components(gnx)"
   ]
  },
  {
   "cell_type": "code",
   "execution_count": 538,
   "metadata": {},
   "outputs": [],
   "source": [
    "l, v = np.linalg.eigh(nx.normalized_laplacian_matrix(gnx).A + 0.0001)\n",
    "l[np.where(l < 1e-10)] = 0\n",
    "idx = l.argsort()   \n",
    "l = l[idx]\n",
    "v = v[:,idx]"
   ]
  },
  {
   "cell_type": "code",
   "execution_count": 545,
   "metadata": {},
   "outputs": [
    {
     "data": {
      "text/plain": [
       "0.5114935520000037"
      ]
     },
     "execution_count": 545,
     "metadata": {},
     "output_type": "execute_result"
    }
   ],
   "source": [
    "v = torch.Tensor(v).float()\n",
    "rayleigh_i(v, normed_adj[2], 1000)"
   ]
  },
  {
   "cell_type": "code",
   "execution_count": 546,
   "metadata": {},
   "outputs": [
    {
     "data": {
      "text/plain": [
       "<matplotlib.axes._subplots.AxesSubplot at 0x7efd900ce450>"
      ]
     },
     "execution_count": 546,
     "metadata": {},
     "output_type": "execute_result"
    },
    {
     "data": {
      "image/png": "[encoded data removed]",
      "text/plain": [
       "<Figure size 1080x360 with 1 Axes>"
      ]
     },
     "metadata": {
      "needs_background": "light"
     },
     "output_type": "display_data"
    }
   ],
   "source": [
    "plt.figure(figsize=(15,5))\n",
    "sns.distplot(l, bins=200, kde=False, rug=False)"
   ]
  },
  {
   "cell_type": "markdown",
   "metadata": {},
   "source": [
    "# Pubmed"
   ]
  },
  {
   "cell_type": "markdown",
   "metadata": {},
   "source": [
    "### A. Matching Rayleigh quotient"
   ]
  },
  {
   "cell_type": "code",
   "execution_count": 515,
   "metadata": {},
   "outputs": [],
   "source": [
    "gnx, normed_adj, X, y, idx_train, idx_val, idx_test = \\\n",
    "            load_data(\"pubmed\", ['', \"RwNorm\", \"SymNormLap\", \"AbsRwNormAdj\"])"
   ]
  },
  {
   "cell_type": "code",
   "execution_count": 517,
   "metadata": {},
   "outputs": [
    {
     "name": "stdout",
     "output_type": "stream",
     "text": [
      "Mean: 0.2543236723254429, Std: 0.2554629888099532\n"
     ]
    }
   ],
   "source": [
    "yoh = F.one_hot(y, num_classes=6).float()\n",
    "labels_r = np.array([rayleigh_i(yoh, normed_adj[2], i) for i in range(6)])\n",
    "print(\"Mean: {}, Std: {}\".format(labels_r.mean(), labels_r.std()))"
   ]
  },
  {
   "cell_type": "code",
   "execution_count": 518,
   "metadata": {},
   "outputs": [
    {
     "name": "stdout",
     "output_type": "stream",
     "text": [
      "Mean: 0.8671004615600176, Std: 0.07000272088299465\n"
     ]
    }
   ],
   "source": [
    "X_r = np.array([rayleigh_i(X, normed_adj[2], i) for i in range(500)])\n",
    "print(\"Mean: {}, Std: {}\".format(X_r.mean(), X_r.std()))"
   ]
  },
  {
   "cell_type": "code",
   "execution_count": 520,
   "metadata": {},
   "outputs": [
    {
     "name": "stdout",
     "output_type": "stream",
     "text": [
      "Mean: 0.6916697668831758, Std: 0.07310921154793198\n"
     ]
    }
   ],
   "source": [
    "X_RwNorm = feature_transform(normed_adj[1], X, k=1)\n",
    "X_RwNorm_r = np.array([rayleigh_i(X_RwNorm, normed_adj[2], i) for i in range(500)])\n",
    "print(\"Mean: {}, Std: {}\".format(X_RwNorm_r.mean(), X_RwNorm_r.std()))"
   ]
  },
  {
   "cell_type": "code",
   "execution_count": 522,
   "metadata": {},
   "outputs": [
    {
     "name": "stdout",
     "output_type": "stream",
     "text": [
      "Mean: 0.4986617145943691, Std: 0.04280482903423631\n"
     ]
    }
   ],
   "source": [
    "X_RwNorm = feature_transform(normed_adj[1], X, k=2)\n",
    "X_RwNorm_r = np.array([rayleigh_i(X_RwNorm, normed_adj[2], i) for i in range(500)])\n",
    "print(\"Mean: {}, Std: {}\".format(X_RwNorm_r.mean(), X_RwNorm_r.std()))"
   ]
  },
  {
   "cell_type": "code",
   "execution_count": 529,
   "metadata": {},
   "outputs": [
    {
     "name": "stdout",
     "output_type": "stream",
     "text": [
      "Mean: 0.3719364095902638, Std: 0.015110402967608908\n"
     ]
    }
   ],
   "source": [
    "X_RwNorm = feature_transform(normed_adj[1], X, k=40)\n",
    "X_RwNorm_r = np.array([rayleigh_i(X_RwNorm, normed_adj[2], i) for i in range(500)])\n",
    "print(\"Mean: {}, Std: {}\".format(X_RwNorm_r.mean(), X_RwNorm_r.std()))"
   ]
  },
  {
   "cell_type": "markdown",
   "metadata": {},
   "source": [
    "# Cora"
   ]
  },
  {
   "cell_type": "code",
   "execution_count": 72,
   "metadata": {},
   "outputs": [],
   "source": [
    "gnx, normed_adj, X, y, idx_train, idx_val, idx_test = \\\n",
    "            load_data(\"cora\", ['', \"RwNorm\", \"SymNormLap\", \"AbsRwNormAdj\"])"
   ]
  },
  {
   "cell_type": "code",
   "execution_count": 74,
   "metadata": {},
   "outputs": [],
   "source": [
    "largest = max(nx.connected_components(gnx), key=len)"
   ]
  },
  {
   "cell_type": "code",
   "execution_count": 75,
   "metadata": {},
   "outputs": [],
   "source": [
    "cora = gnx.subgraph(largest)"
   ]
  },
  {
   "cell_type": "code",
   "execution_count": 78,
   "metadata": {},
   "outputs": [
    {
     "data": {
      "text/plain": [
       "19"
      ]
     },
     "execution_count": 78,
     "metadata": {},
     "output_type": "execute_result"
    }
   ],
   "source": [
    "nx.diameter(cora)"
   ]
  },
  {
   "cell_type": "code",
   "execution_count": null,
   "metadata": {},
   "outputs": [],
   "source": []
  }
 ],
 "metadata": {
  "kernelspec": {
   "display_name": "Python 3",
   "language": "python",
   "name": "python3"
  },
  "language_info": {
   "codemirror_mode": {
    "name": "ipython",
    "version": 3
   },
   "file_extension": ".py",
   "mimetype": "text/x-python",
   "name": "python",
   "nbconvert_exporter": "python",
   "pygments_lexer": "ipython3",
   "version": "3.7.7"
  }
 },
 "nbformat": 4,
 "nbformat_minor": 4
}
