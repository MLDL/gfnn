{
 "cells": [
  {
   "cell_type": "code",
   "execution_count": 1,
   "metadata": {},
   "outputs": [],
   "source": [
    "import numpy as np\n",
    "import seaborn as sns\n",
    "from utils import load_citation\n",
    "import networkx as nx\n",
    "import scipy"
   ]
  },
  {
   "cell_type": "code",
   "execution_count": 55,
   "metadata": {},
   "outputs": [],
   "source": [
    "from matplotlib import pyplot as plt"
   ]
  },
  {
   "cell_type": "markdown",
   "metadata": {},
   "source": [
    "## Rayleight Quotient for random vectors"
   ]
  },
  {
   "cell_type": "code",
   "execution_count": 2,
   "metadata": {},
   "outputs": [],
   "source": [
    "adj, features, labels , idx_tr, idx_va, idx_te = load_citation(\"cora\", \"\", False)"
   ]
  },
  {
   "cell_type": "code",
   "execution_count": 6,
   "metadata": {},
   "outputs": [],
   "source": [
    "coranx = nx.from_numpy_array(adj.to_dense().numpy())"
   ]
  },
  {
   "cell_type": "code",
   "execution_count": 7,
   "metadata": {},
   "outputs": [
    {
     "data": {
      "text/plain": [
       "(5278, 2708)"
      ]
     },
     "execution_count": 7,
     "metadata": {},
     "output_type": "execute_result"
    }
   ],
   "source": [
    "coranx.number_of_edges(), coranx.number_of_nodes()"
   ]
  },
  {
   "cell_type": "code",
   "execution_count": 31,
   "metadata": {},
   "outputs": [],
   "source": [
    "coraL = nx.normalized_laplacian_matrix(coranx)\n",
    "coraL = coraL.todense()"
   ]
  },
  {
   "cell_type": "code",
   "execution_count": 32,
   "metadata": {},
   "outputs": [],
   "source": [
    "def r(x, coraL):\n",
    "    return x.T.dot(coraL).dot(x) / x.T.dot(x)"
   ]
  },
  {
   "cell_type": "code",
   "execution_count": 33,
   "metadata": {},
   "outputs": [
    {
     "data": {
      "text/plain": [
       "matrix([[0.1419338]])"
      ]
     },
     "execution_count": 33,
     "metadata": {},
     "output_type": "execute_result"
    }
   ],
   "source": [
    "r(np.ones(2708), coraL)"
   ]
  },
  {
   "cell_type": "code",
   "execution_count": 34,
   "metadata": {},
   "outputs": [],
   "source": [
    "def random01(size, t=0.5):\n",
    "    x = np.zeros(size)\n",
    "    for i in range(size):\n",
    "        if np.random.random() < t:\n",
    "            x[i] = 1\n",
    "    return x"
   ]
  },
  {
   "cell_type": "code",
   "execution_count": 35,
   "metadata": {},
   "outputs": [
    {
     "data": {
      "text/plain": [
       "matrix([[0.56700902]])"
      ]
     },
     "execution_count": 35,
     "metadata": {},
     "output_type": "execute_result"
    }
   ],
   "source": [
    "r(random01(2708), coraL)"
   ]
  },
  {
   "cell_type": "code",
   "execution_count": 36,
   "metadata": {
    "scrolled": true
   },
   "outputs": [
    {
     "name": "stdout",
     "output_type": "stream",
     "text": [
      "[[0.56489249]]\n",
      "[[0.57486334]]\n",
      "[[0.56900507]]\n",
      "[[0.57024416]]\n",
      "[[0.57897177]]\n",
      "[[0.5832301]]\n",
      "[[0.56509213]]\n",
      "[[0.56996615]]\n",
      "[[0.57261711]]\n",
      "[[0.56482788]]\n",
      "[[0.57563925]]\n",
      "[[0.56823192]]\n",
      "[[0.58669429]]\n",
      "[[0.58520197]]\n",
      "[[0.57903139]]\n",
      "[[0.57489676]]\n",
      "[[0.59201531]]\n",
      "[[0.57021078]]\n",
      "[[0.55455155]]\n",
      "[[0.56969523]]\n",
      "[[0.54935662]]\n",
      "[[0.57208116]]\n",
      "[[0.56053586]]\n",
      "[[0.57160436]]\n",
      "[[0.55682097]]\n",
      "[[0.57517816]]\n",
      "[[0.58551373]]\n",
      "[[0.56615798]]\n",
      "[[0.56804126]]\n",
      "[[0.58262206]]\n",
      "[[0.58064526]]\n",
      "[[0.56613449]]\n",
      "[[0.58427486]]\n",
      "[[0.5589693]]\n",
      "[[0.58059576]]\n",
      "[[0.59215142]]\n",
      "[[0.56499429]]\n",
      "[[0.58372985]]\n",
      "[[0.55731642]]\n",
      "[[0.58706912]]\n",
      "[[0.58088974]]\n",
      "[[0.57478079]]\n",
      "[[0.56694446]]\n",
      "[[0.57456853]]\n",
      "[[0.57078655]]\n",
      "[[0.58971678]]\n",
      "[[0.55787064]]\n",
      "[[0.59957266]]\n",
      "[[0.54814672]]\n",
      "[[0.600158]]\n",
      "[[0.57423336]]\n",
      "[[0.56324311]]\n",
      "[[0.54962367]]\n",
      "[[0.58106065]]\n",
      "[[0.56648495]]\n",
      "[[0.58042874]]\n",
      "[[0.55877282]]\n",
      "[[0.58146933]]\n",
      "[[0.55220002]]\n",
      "[[0.55161895]]\n",
      "[[0.57472752]]\n",
      "[[0.56169388]]\n",
      "[[0.58740552]]\n",
      "[[0.57255805]]\n",
      "[[0.57809805]]\n",
      "[[0.57909948]]\n",
      "[[0.57360318]]\n",
      "[[0.5544523]]\n",
      "[[0.5581136]]\n",
      "[[0.56386391]]\n",
      "[[0.56259306]]\n",
      "[[0.5646856]]\n",
      "[[0.57953146]]\n",
      "[[0.57588609]]\n",
      "[[0.5428578]]\n",
      "[[0.57406237]]\n",
      "[[0.55410729]]\n",
      "[[0.57630056]]\n",
      "[[0.58311214]]\n",
      "[[0.57144165]]\n",
      "[[0.56957091]]\n",
      "[[0.57169373]]\n",
      "[[0.57199768]]\n",
      "[[0.56561083]]\n",
      "[[0.57303774]]\n",
      "[[0.57472754]]\n",
      "[[0.56206488]]\n",
      "[[0.58403429]]\n",
      "[[0.56314522]]\n",
      "[[0.58868866]]\n",
      "[[0.5723119]]\n",
      "[[0.5717903]]\n",
      "[[0.55860757]]\n",
      "[[0.55223643]]\n",
      "[[0.57323304]]\n",
      "[[0.55180261]]\n",
      "[[0.55170899]]\n",
      "[[0.56714014]]\n",
      "[[0.56005338]]\n",
      "[[0.5783991]]\n"
     ]
    }
   ],
   "source": [
    "for _ in range(100):\n",
    "    print(r(random01(2708), coraL))"
   ]
  },
  {
   "cell_type": "code",
   "execution_count": 37,
   "metadata": {},
   "outputs": [],
   "source": [
    "mis = nx.maximal_independent_set(coranx)"
   ]
  },
  {
   "cell_type": "code",
   "execution_count": 39,
   "metadata": {},
   "outputs": [],
   "source": [
    "x = np.zeros(2708)\n",
    "for i in mis:\n",
    "    x[i] = 1"
   ]
  },
  {
   "cell_type": "code",
   "execution_count": 40,
   "metadata": {},
   "outputs": [
    {
     "data": {
      "text/plain": [
       "matrix([[1.]])"
      ]
     },
     "execution_count": 40,
     "metadata": {},
     "output_type": "execute_result"
    }
   ],
   "source": [
    "r(x, coraL)"
   ]
  },
  {
   "cell_type": "code",
   "execution_count": 41,
   "metadata": {},
   "outputs": [
    {
     "data": {
      "text/plain": [
       "1271.0"
      ]
     },
     "execution_count": 41,
     "metadata": {},
     "output_type": "execute_result"
    }
   ],
   "source": [
    "np.sum(x)"
   ]
  },
  {
   "cell_type": "code",
   "execution_count": 42,
   "metadata": {},
   "outputs": [],
   "source": [
    "u, v = np.linalg.eig(coraL)"
   ]
  },
  {
   "cell_type": "code",
   "execution_count": 47,
   "metadata": {},
   "outputs": [],
   "source": [
    "idx = u.argsort()[::-1]   \n",
    "u = u[idx]\n",
    "v = v[:,idx]"
   ]
  },
  {
   "cell_type": "code",
   "execution_count": 68,
   "metadata": {},
   "outputs": [
    {
     "data": {
      "text/plain": [
       "array([ 2.00000000e+00+0.j,  2.00000000e+00+0.j,  2.00000000e+00+0.j, ...,\n",
       "       -2.22565218e-15+0.j, -2.31053597e-15+0.j, -3.25125522e-15+0.j])"
      ]
     },
     "execution_count": 68,
     "metadata": {},
     "output_type": "execute_result"
    }
   ],
   "source": [
    "u"
   ]
  },
  {
   "cell_type": "code",
   "execution_count": 77,
   "metadata": {},
   "outputs": [],
   "source": [
    "coeff = np.real(v.T.dot(random01(2708)))"
   ]
  },
  {
   "cell_type": "code",
   "execution_count": 78,
   "metadata": {},
   "outputs": [
    {
     "data": {
      "text/plain": [
       "matrix([[ 0.81970249,  0.27268717,  0.17750376, ..., -0.48404624,\n",
       "          1.32553498,  0.91938819]])"
      ]
     },
     "execution_count": 78,
     "metadata": {},
     "output_type": "execute_result"
    }
   ],
   "source": [
    "coeff"
   ]
  },
  {
   "cell_type": "code",
   "execution_count": 79,
   "metadata": {},
   "outputs": [
    {
     "name": "stderr",
     "output_type": "stream",
     "text": [
      "/home/gear/anaconda3/envs/gfnn/lib/python3.7/site-packages/numpy/core/_asarray.py:85: ComplexWarning: Casting complex values to real discards the imaginary part\n",
      "  return array(a, dtype, copy=False, order=order)\n"
     ]
    },
    {
     "data": {
      "image/png": "[encoded data removed]",
      "text/plain": [
       "<Figure size 432x288 with 1 Axes>"
      ]
     },
     "metadata": {
      "needs_background": "light"
     },
     "output_type": "display_data"
    }
   ],
   "source": [
    "plt.figure()\n",
    "plt.plot(coeff.T, u)\n",
    "plt.show()"
   ]
  },
  {
   "cell_type": "code",
   "execution_count": 80,
   "metadata": {},
   "outputs": [
    {
     "name": "stderr",
     "output_type": "stream",
     "text": [
      "/home/gear/anaconda3/envs/gfnn/lib/python3.7/site-packages/numpy/core/_asarray.py:85: ComplexWarning: Casting complex values to real discards the imaginary part\n",
      "  return array(a, dtype, copy=False, order=order)\n"
     ]
    },
    {
     "data": {
      "image/png": "[encoded data removed]",
      "text/plain": [
       "<Figure size 432x288 with 1 Axes>"
      ]
     },
     "metadata": {
      "needs_background": "light"
     },
     "output_type": "display_data"
    }
   ],
   "source": [
    "coeff = np.real(v.T.dot(x))\n",
    "plt.figure()\n",
    "plt.plot(coeff.T, u)\n",
    "plt.show()"
   ]
  },
  {
   "cell_type": "code",
   "execution_count": 85,
   "metadata": {},
   "outputs": [],
   "source": [
    "subcoranx = None\n",
    "for i in nx.connected_components(coranx):\n",
    "    subcoranx = i\n",
    "    break"
   ]
  },
  {
   "cell_type": "code",
   "execution_count": 87,
   "metadata": {},
   "outputs": [],
   "source": [
    "subcoranx = coranx.subgraph(subcoranx)"
   ]
  },
  {
   "cell_type": "code",
   "execution_count": 93,
   "metadata": {},
   "outputs": [
    {
     "data": {
      "text/plain": [
       "2485"
      ]
     },
     "execution_count": 93,
     "metadata": {},
     "output_type": "execute_result"
    }
   ],
   "source": [
    "subcoranx.number_of_nodes()"
   ]
  },
  {
   "cell_type": "code",
   "execution_count": 89,
   "metadata": {},
   "outputs": [],
   "source": [
    "subcoraL = nx.normalized_laplacian_matrix(subcoranx)\n",
    "subcoraL = subcoraL.todense()"
   ]
  },
  {
   "cell_type": "code",
   "execution_count": 90,
   "metadata": {},
   "outputs": [],
   "source": [
    "sl, sv = np.linalg.eigh(subcoraL)"
   ]
  },
  {
   "cell_type": "code",
   "execution_count": 92,
   "metadata": {},
   "outputs": [],
   "source": [
    "idx = sl.argsort()[::-1]   \n",
    "sl = sl[idx]\n",
    "sv = sv[:,idx]"
   ]
  },
  {
   "cell_type": "code",
   "execution_count": 151,
   "metadata": {},
   "outputs": [
    {
     "data": {
      "image/png": "[encoded data removed]",
      "text/plain": [
       "<Figure size 432x288 with 1 Axes>"
      ]
     },
     "metadata": {
      "needs_background": "light"
     },
     "output_type": "display_data"
    }
   ],
   "source": [
    "coeff = np.zeros((1,2485))\n",
    "for _ in range(1000):\n",
    "    coeff += sv.T.dot(random01(2485))\n",
    "coeff /= 1000\n",
    "plt.figure()\n",
    "plt.plot(coeff.T, sl)\n",
    "plt.show()"
   ]
  },
  {
   "cell_type": "code",
   "execution_count": 191,
   "metadata": {},
   "outputs": [],
   "source": [
    "rvec = random01(2485)"
   ]
  },
  {
   "cell_type": "code",
   "execution_count": 192,
   "metadata": {},
   "outputs": [],
   "source": [
    "coeff = np.array(sv.T.dot(rvec)).squeeze()"
   ]
  },
  {
   "cell_type": "code",
   "execution_count": 193,
   "metadata": {},
   "outputs": [],
   "source": [
    "coeff[:100] = 0"
   ]
  },
  {
   "cell_type": "code",
   "execution_count": 194,
   "metadata": {},
   "outputs": [],
   "source": [
    "coeff[-100:] = 0"
   ]
  },
  {
   "cell_type": "code",
   "execution_count": 195,
   "metadata": {},
   "outputs": [],
   "source": [
    "reconstructed = np.array(sv.dot(coeff)).squeeze()"
   ]
  },
  {
   "cell_type": "code",
   "execution_count": 196,
   "metadata": {},
   "outputs": [],
   "source": [
    "for i in range(len(reconstructed)):\n",
    "    if reconstructed[i] > 0:\n",
    "        reconstructed[i] = 1\n",
    "    else:\n",
    "        reconstructed[i] = 0"
   ]
  },
  {
   "cell_type": "code",
   "execution_count": 197,
   "metadata": {},
   "outputs": [
    {
     "data": {
      "text/plain": [
       "60.0"
      ]
     },
     "execution_count": 197,
     "metadata": {},
     "output_type": "execute_result"
    }
   ],
   "source": [
    "np.sum(abs(reconstructed - rvec))"
   ]
  },
  {
   "cell_type": "code",
   "execution_count": 198,
   "metadata": {},
   "outputs": [
    {
     "data": {
      "text/plain": [
       "array([0., 1., 1., ..., 1., 0., 0.])"
      ]
     },
     "execution_count": 198,
     "metadata": {},
     "output_type": "execute_result"
    }
   ],
   "source": [
    "reconstructed"
   ]
  },
  {
   "cell_type": "code",
   "execution_count": 199,
   "metadata": {},
   "outputs": [
    {
     "data": {
      "text/plain": [
       "array([0., 1., 1., ..., 1., 0., 0.])"
      ]
     },
     "execution_count": 199,
     "metadata": {},
     "output_type": "execute_result"
    }
   ],
   "source": [
    "rvec"
   ]
  },
  {
   "cell_type": "code",
   "execution_count": 222,
   "metadata": {},
   "outputs": [],
   "source": [
    "coeff = np.array(sv.T.dot(rvec)).squeeze()\n",
    "coeff[200:400] = 0\n",
    "reconstructed = np.array(sv.dot(coeff)).squeeze()"
   ]
  },
  {
   "cell_type": "code",
   "execution_count": 223,
   "metadata": {},
   "outputs": [],
   "source": [
    "for i in range(len(reconstructed)):\n",
    "    if reconstructed[i] > 0.55:\n",
    "        reconstructed[i] = 1\n",
    "    else:\n",
    "        reconstructed[i] = 0"
   ]
  },
  {
   "cell_type": "code",
   "execution_count": 224,
   "metadata": {},
   "outputs": [
    {
     "data": {
      "text/plain": [
       "35.0"
      ]
     },
     "execution_count": 224,
     "metadata": {},
     "output_type": "execute_result"
    }
   ],
   "source": [
    "np.sum(abs(reconstructed - rvec))"
   ]
  },
  {
   "cell_type": "code",
   "execution_count": null,
   "metadata": {},
   "outputs": [],
   "source": []
  }
 ],
 "metadata": {
  "kernelspec": {
   "display_name": "Python 3",
   "language": "python",
   "name": "python3"
  },
  "language_info": {
   "codemirror_mode": {
    "name": "ipython",
    "version": 3
   },
   "file_extension": ".py",
   "mimetype": "text/x-python",
   "name": "python",
   "nbconvert_exporter": "python",
   "pygments_lexer": "ipython3",
   "version": "3.7.7"
  }
 },
 "nbformat": 4,
 "nbformat_minor": 4
}
