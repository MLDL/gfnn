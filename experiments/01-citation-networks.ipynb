{
 "cells": [
  {
   "cell_type": "code",
   "execution_count": 121,
   "metadata": {},
   "outputs": [],
   "source": [
    "import sys\n",
    "sys.path.append(\"..\")\n",
    "from utils import load_data\n",
    "from train import train_gfnn, test_regression\n",
    "import torch\n",
    "import torch.nn as nn\n",
    "from torch.nn import Module\n",
    "import torch.nn.functional as F\n",
    "import math\n",
    "from torch.nn.parameter import Parameter\n",
    "from torch.nn.modules.module import Module\n",
    "import numpy as np\n",
    "import networkx as nx\n",
    "from matplotlib import pyplot as plt\n",
    "import seaborn as sns"
   ]
  },
  {
   "cell_type": "code",
   "execution_count": 463,
   "metadata": {},
   "outputs": [],
   "source": [
    "from sklearn.linear_model import SGDClassifier\n",
    "from sklearn.neural_network import MLPClassifier"
   ]
  },
  {
   "cell_type": "code",
   "execution_count": 2,
   "metadata": {},
   "outputs": [],
   "source": [
    "class MLP(Module):\n",
    "    def __init__(self, nfeat, nhid, nclass, dp=0.2):\n",
    "        super(MLP, self).__init__()\n",
    "        self.W1 = nn.Linear(nfeat, nhid)\n",
    "        self.W2 = nn.Linear(nhid, nclass)\n",
    "        self.dp = dp\n",
    "        self.act = nn.PReLU()\n",
    "        self.num_class = nclass\n",
    "\n",
    "    def forward(self, x):\n",
    "        x = self.act(self.W1(x))\n",
    "        x = nn.Dropout(p=self.dp)(x)\n",
    "        return self.W2(x)"
   ]
  },
  {
   "cell_type": "code",
   "execution_count": 111,
   "metadata": {},
   "outputs": [],
   "source": [
    "def rayleigh_i(X, M, index=0):\n",
    "    r = X[:,index].unsqueeze(0) @ torch.spmm(M, X[:,index].unsqueeze(1))\n",
    "    d = torch.norm(X[:,index], p=2).item()**2\n",
    "    if d == 0.0:\n",
    "        return 0\n",
    "    return r.item() / d"
   ]
  },
  {
   "cell_type": "code",
   "execution_count": 125,
   "metadata": {},
   "outputs": [],
   "source": [
    "def feature_transform(adj, X, k=1):\n",
    "    for i in range(k):\n",
    "        X = torch.spmm(adj, X)\n",
    "    return X"
   ]
  },
  {
   "cell_type": "code",
   "execution_count": 214,
   "metadata": {},
   "outputs": [],
   "source": [
    "def fourier_filter(U, X, indices=(0,100)):\n",
    "    i, j = indices\n",
    "    coeff = U[:,i:j].transpose(0,1) @ X\n",
    "    X_hat = U[:,i:j] @ coeff\n",
    "    return X_hat"
   ]
  },
  {
   "cell_type": "markdown",
   "metadata": {},
   "source": [
    "# Cora"
   ]
  },
  {
   "cell_type": "markdown",
   "metadata": {},
   "source": [
    "### A. Matching Rayleigh Quotient"
   ]
  },
  {
   "cell_type": "code",
   "execution_count": 3,
   "metadata": {},
   "outputs": [],
   "source": [
    "gnx, normed_adj, X, y, idx_train, idx_val, idx_test = \\\n",
    "            load_data(\"cora\", ['', \"RwNorm\", \"SymNormLap\", \"AbsRwNormAdj\"])"
   ]
  },
  {
   "cell_type": "code",
   "execution_count": 80,
   "metadata": {},
   "outputs": [],
   "source": [
    "yoh = F.one_hot(y, num_classes=7).float()"
   ]
  },
  {
   "cell_type": "code",
   "execution_count": 131,
   "metadata": {},
   "outputs": [
    {
     "name": "stdout",
     "output_type": "stream",
     "text": [
      "Mean: 0.2971457486046264, Std: 0.04741947745730274\n"
     ]
    }
   ],
   "source": [
    "labels_r = np.array([rayleigh_i(yoh, normed_adj[2], i) for i in range(7)])\n",
    "print(\"Mean: {}, Std: {}\".format(labels_r.mean(), labels_r.std()))"
   ]
  },
  {
   "cell_type": "code",
   "execution_count": 462,
   "metadata": {},
   "outputs": [
    {
     "data": {
      "text/plain": [
       "array([0.35705904, 0.37151298, 0.2464746 , 0.27849939, 0.23773519,\n",
       "       0.3033104 , 0.28542863])"
      ]
     },
     "execution_count": 462,
     "metadata": {},
     "output_type": "execute_result"
    }
   ],
   "source": [
    "labels_r"
   ]
  },
  {
   "cell_type": "code",
   "execution_count": 128,
   "metadata": {},
   "outputs": [
    {
     "name": "stdout",
     "output_type": "stream",
     "text": [
      "Mean: 0.9148640377044285, Std: 0.10261153153787544\n"
     ]
    }
   ],
   "source": [
    "X_r = np.array([rayleigh_i(X, normed_adj[2], i) for i in range(1433)])\n",
    "print(\"Mean: {}, Std: {}\".format(X_r.mean(), X_r.std()))"
   ]
  },
  {
   "cell_type": "code",
   "execution_count": 129,
   "metadata": {},
   "outputs": [
    {
     "name": "stdout",
     "output_type": "stream",
     "text": [
      "Mean: 0.47614158213978974, Std: 0.13366578499985574\n"
     ]
    }
   ],
   "source": [
    "X_RwNorm = feature_transform(normed_adj[1], X, k=1)\n",
    "X_RwNorm_r = np.array([rayleigh_i(X_RwNorm, normed_adj[2], i) for i in range(1433)])\n",
    "print(\"Mean: {}, Std: {}\".format(X_RwNorm_r.mean(), X_RwNorm_r.std()))"
   ]
  },
  {
   "cell_type": "code",
   "execution_count": 410,
   "metadata": {},
   "outputs": [
    {
     "name": "stdout",
     "output_type": "stream",
     "text": [
      "Mean: 0.8537323202344138, Std: 0.06531045819977545\n"
     ]
    }
   ],
   "source": [
    "X_RwNorm_r = np.array([rayleigh_i(X_RwNorm, normed_adj[1], i) for i in range(1433)])\n",
    "print(\"Mean: {}, Std: {}\".format(X_RwNorm_r.mean(), X_RwNorm_r.std()))"
   ]
  },
  {
   "cell_type": "code",
   "execution_count": 132,
   "metadata": {},
   "outputs": [
    {
     "name": "stdout",
     "output_type": "stream",
     "text": [
      "Mean: 0.47614158213978974, Std: 0.13366578499985574\n"
     ]
    }
   ],
   "source": [
    "X_AbsRwNormAdj = feature_transform(normed_adj[3], X, k=1)\n",
    "X_AbsRwNormAdj_r = np.array([rayleigh_i(X_AbsRwNormAdj, normed_adj[2], i) for i in range(1433)])\n",
    "print(\"Mean: {}, Std: {}\".format(X_AbsRwNormAdj_r.mean(), X_AbsRwNormAdj_r.std()))"
   ]
  },
  {
   "cell_type": "code",
   "execution_count": 133,
   "metadata": {},
   "outputs": [
    {
     "name": "stdout",
     "output_type": "stream",
     "text": [
      "Mean: 0.29078903412235574, Std: 0.10440063335192415\n"
     ]
    }
   ],
   "source": [
    "X_RwNorm = feature_transform(normed_adj[1], X, k=2)\n",
    "X_RwNorm_r = np.array([rayleigh_i(X_RwNorm, normed_adj[2], i) for i in range(1433)])\n",
    "print(\"Mean: {}, Std: {}\".format(X_RwNorm_r.mean(), X_RwNorm_r.std()))"
   ]
  },
  {
   "cell_type": "markdown",
   "metadata": {},
   "source": [
    "Note: The filter makes the feature matches the rayleight quotient of the labels "
   ]
  },
  {
   "cell_type": "markdown",
   "metadata": {},
   "source": [
    "### B.  Eigendecomposition"
   ]
  },
  {
   "cell_type": "code",
   "execution_count": 152,
   "metadata": {},
   "outputs": [
    {
     "data": {
      "text/plain": [
       "78"
      ]
     },
     "execution_count": 152,
     "metadata": {},
     "output_type": "execute_result"
    }
   ],
   "source": [
    "nx.number_connected_components(gnx)"
   ]
  },
  {
   "cell_type": "code",
   "execution_count": 441,
   "metadata": {},
   "outputs": [],
   "source": [
    "l, v = np.linalg.eigh(nx.normalized_laplacian_matrix(gnx).A + 0.0001)\n",
    "l[np.where(l < 1e-10)] = 0\n",
    "idx = l.argsort()   \n",
    "l = l[idx]\n",
    "v = v[:,idx]"
   ]
  },
  {
   "cell_type": "code",
   "execution_count": 442,
   "metadata": {},
   "outputs": [],
   "source": [
    "v = torch.Tensor(v).float()"
   ]
  },
  {
   "cell_type": "code",
   "execution_count": 443,
   "metadata": {},
   "outputs": [
    {
     "data": {
      "text/plain": [
       "1.407133133061216"
      ]
     },
     "execution_count": 443,
     "metadata": {},
     "output_type": "execute_result"
    }
   ],
   "source": [
    "rayleigh_i(v, normed_adj[2], 2000)"
   ]
  },
  {
   "cell_type": "code",
   "execution_count": 444,
   "metadata": {},
   "outputs": [
    {
     "data": {
      "text/plain": [
       "2.0000316592388208"
      ]
     },
     "execution_count": 444,
     "metadata": {},
     "output_type": "execute_result"
    }
   ],
   "source": [
    "l.max()"
   ]
  },
  {
   "cell_type": "code",
   "execution_count": 451,
   "metadata": {},
   "outputs": [
    {
     "data": {
      "text/plain": [
       "<matplotlib.axes._subplots.AxesSubplot at 0x7efd903d2110>"
      ]
     },
     "execution_count": 451,
     "metadata": {},
     "output_type": "execute_result"
    },
    {
     "data": {
      "image/png": "[encoded data removed]",
      "text/plain": [
       "<Figure size 1080x360 with 1 Axes>"
      ]
     },
     "metadata": {
      "needs_background": "light"
     },
     "output_type": "display_data"
    }
   ],
   "source": [
    "plt.figure(figsize=(15,5))\n",
    "sns.distplot(l, bins=200, kde=False, rug=False)"
   ]
  },
  {
   "cell_type": "code",
   "execution_count": 460,
   "metadata": {},
   "outputs": [
    {
     "data": {
      "text/plain": [
       "SGDClassifier(alpha=0.0001, average=False, class_weight=None,\n",
       "              early_stopping=False, epsilon=0.1, eta0=0.0, fit_intercept=True,\n",
       "              l1_ratio=0.15, learning_rate='optimal', loss='hinge',\n",
       "              max_iter=20000, n_iter_no_change=5, n_jobs=None, penalty='l2',\n",
       "              power_t=0.5, random_state=None, shuffle=True, tol=0.01,\n",
       "              validation_fraction=0.1, verbose=0, warm_start=False)"
      ]
     },
     "execution_count": 460,
     "metadata": {},
     "output_type": "execute_result"
    }
   ],
   "source": [
    "clf = SGDClassifier(max_iter=20000, tol=1e-2)\n",
    "feat = fourier_filter(v, X, indices=(0, 450))\n",
    "train_feat = feat[idx_train].numpy()\n",
    "val_feat = feat[idx_val].numpy()\n",
    "test_feat = feat[idx_test].numpy()\n",
    "\n",
    "clf.fit(train_feat, y[idx_train])"
   ]
  },
  {
   "cell_type": "code",
   "execution_count": 461,
   "metadata": {},
   "outputs": [
    {
     "data": {
      "text/plain": [
       "0.738"
      ]
     },
     "execution_count": 461,
     "metadata": {},
     "output_type": "execute_result"
    }
   ],
   "source": [
    "np.sum(clf.predict(test_feat) == y[idx_test].numpy()) / 1000"
   ]
  },
  {
   "cell_type": "markdown",
   "metadata": {},
   "source": [
    "Fit random features"
   ]
  },
  {
   "cell_type": "code",
   "execution_count": 432,
   "metadata": {},
   "outputs": [],
   "source": [
    "with torch.no_grad():\n",
    "    rand_yoh = torch.zeros_like(yoh)\n",
    "    for i in range(len(rand_yoh)):\n",
    "        j = np.random.randint(0,7)\n",
    "        rand_yoh[j] = 1"
   ]
  },
  {
   "cell_type": "code",
   "execution_count": 433,
   "metadata": {},
   "outputs": [
    {
     "name": "stdout",
     "output_type": "stream",
     "text": [
      "Mean: 0.9262289832206402, Std: 1.1102230246251565e-16\n"
     ]
    }
   ],
   "source": [
    "rand_labels_r = np.array([rayleigh_i(rand_yoh, normed_adj[2], i) for i in range(7)])\n",
    "print(\"Mean: {}, Std: {}\".format(rand_labels_r.mean(), rand_labels_r.std()))"
   ]
  },
  {
   "cell_type": "code",
   "execution_count": 488,
   "metadata": {},
   "outputs": [
    {
     "data": {
      "text/plain": [
       "0.858216218097742"
      ]
     },
     "execution_count": 488,
     "metadata": {},
     "output_type": "execute_result"
    }
   ],
   "source": [
    "rayleigh_i(v, normed_adj[2], 1000)"
   ]
  },
  {
   "cell_type": "code",
   "execution_count": 489,
   "metadata": {},
   "outputs": [
    {
     "data": {
      "text/plain": [
       "0.9999996423722024"
      ]
     },
     "execution_count": 489,
     "metadata": {},
     "output_type": "execute_result"
    }
   ],
   "source": [
    "rayleigh_i(v, normed_adj[2], 1200)"
   ]
  },
  {
   "cell_type": "code",
   "execution_count": 464,
   "metadata": {},
   "outputs": [],
   "source": [
    "rand_y = np.array([np.random.randint(0,7) for _ in range(len(rand_yoh))])"
   ]
  },
  {
   "cell_type": "code",
   "execution_count": 486,
   "metadata": {},
   "outputs": [
    {
     "data": {
      "text/plain": [
       "MLPClassifier(activation='relu', alpha=0.0001, batch_size='auto', beta_1=0.9,\n",
       "              beta_2=0.999, early_stopping=False, epsilon=1e-08,\n",
       "              hidden_layer_sizes=(50, 30), learning_rate='constant',\n",
       "              learning_rate_init=0.001, max_fun=15000, max_iter=2000,\n",
       "              momentum=0.9, n_iter_no_change=10, nesterovs_momentum=True,\n",
       "              power_t=0.5, random_state=None, shuffle=True, solver='adam',\n",
       "              tol=0.0001, validation_fraction=0.1, verbose=False,\n",
       "              warm_start=False)"
      ]
     },
     "execution_count": 486,
     "metadata": {},
     "output_type": "execute_result"
    }
   ],
   "source": [
    "clf = MLPClassifier(hidden_layer_sizes=(50,30), max_iter=2000)\n",
    "feat = fourier_filter(v, X, indices=(1000, 1200))\n",
    "train_feat = feat[idx_train].numpy()\n",
    "val_feat = feat[idx_val].numpy()\n",
    "test_feat = feat[idx_test].numpy()\n",
    "\n",
    "clf.fit(train_feat, rand_y[idx_train])"
   ]
  },
  {
   "cell_type": "code",
   "execution_count": 487,
   "metadata": {},
   "outputs": [
    {
     "data": {
      "text/plain": [
       "0.129"
      ]
     },
     "execution_count": 487,
     "metadata": {},
     "output_type": "execute_result"
    }
   ],
   "source": [
    "np.sum(clf.predict(train_feat) == rand_y[idx_train]) / 1000"
   ]
  },
  {
   "cell_type": "code",
   "execution_count": 483,
   "metadata": {},
   "outputs": [
    {
     "data": {
      "text/plain": [
       "0.858216218097742"
      ]
     },
     "execution_count": 483,
     "metadata": {},
     "output_type": "execute_result"
    }
   ],
   "source": [
    "rayleigh_i(v, normed_adj[2], 1000)"
   ]
  },
  {
   "cell_type": "markdown",
   "metadata": {},
   "source": [
    "# Citeseer"
   ]
  },
  {
   "cell_type": "markdown",
   "metadata": {},
   "source": [
    "### A. Matching Rayleigh quotient"
   ]
  },
  {
   "cell_type": "code",
   "execution_count": 530,
   "metadata": {},
   "outputs": [
    {
     "name": "stderr",
     "output_type": "stream",
     "text": [
      "../normalization.py:79: RuntimeWarning: divide by zero encountered in power\n",
      "  r_inv = np.power(rowsum, -1).flatten()\n"
     ]
    }
   ],
   "source": [
    "gnx, normed_adj, X, y, idx_train, idx_val, idx_test = \\\n",
    "            load_data(\"citeseer\", ['', \"RwNorm\", \"SymNormLap\", \"AbsRwNormAdj\"])"
   ]
  },
  {
   "cell_type": "code",
   "execution_count": 531,
   "metadata": {},
   "outputs": [],
   "source": [
    "yoh = F.one_hot(y, num_classes=6).float()"
   ]
  },
  {
   "cell_type": "code",
   "execution_count": 532,
   "metadata": {},
   "outputs": [
    {
     "name": "stdout",
     "output_type": "stream",
     "text": [
      "Mean: 0.37658795671073975, Std: 0.11117576443748893\n"
     ]
    }
   ],
   "source": [
    "labels_r = np.array([rayleigh_i(yoh, normed_adj[2], i) for i in range(6)])\n",
    "print(\"Mean: {}, Std: {}\".format(labels_r.mean(), labels_r.std()))"
   ]
  },
  {
   "cell_type": "code",
   "execution_count": 533,
   "metadata": {},
   "outputs": [
    {
     "data": {
      "text/plain": [
       "array([0.60458063, 0.37608983, 0.39446794, 0.28630787, 0.32804129,\n",
       "       0.27004017])"
      ]
     },
     "execution_count": 533,
     "metadata": {},
     "output_type": "execute_result"
    }
   ],
   "source": [
    "labels_r"
   ]
  },
  {
   "cell_type": "code",
   "execution_count": 534,
   "metadata": {},
   "outputs": [
    {
     "name": "stdout",
     "output_type": "stream",
     "text": [
      "Mean: 0.8055648380693111, Std: 0.19417330372665548\n"
     ]
    }
   ],
   "source": [
    "X_r = np.array([rayleigh_i(X, normed_adj[2], i) for i in range(3703)])\n",
    "print(\"Mean: {}, Std: {}\".format(X_r.mean(), X_r.std()))"
   ]
  },
  {
   "cell_type": "code",
   "execution_count": 535,
   "metadata": {},
   "outputs": [
    {
     "name": "stdout",
     "output_type": "stream",
     "text": [
      "Mean: 0.32037138477031735, Std: 0.13754224668649165\n"
     ]
    }
   ],
   "source": [
    "X_RwNorm = feature_transform(normed_adj[1], X, k=1)\n",
    "X_RwNorm_r = np.array([rayleigh_i(X_RwNorm, normed_adj[2], i) for i in range(3703)])\n",
    "print(\"Mean: {}, Std: {}\".format(X_RwNorm_r.mean(), X_RwNorm_r.std()))"
   ]
  },
  {
   "cell_type": "code",
   "execution_count": 536,
   "metadata": {},
   "outputs": [
    {
     "name": "stdout",
     "output_type": "stream",
     "text": [
      "Mean: 0.17920855110772774, Std: 0.09094552240239674\n"
     ]
    }
   ],
   "source": [
    "X_RwNorm = feature_transform(normed_adj[1], X, k=2)\n",
    "X_RwNorm_r = np.array([rayleigh_i(X_RwNorm, normed_adj[2], i) for i in range(3703)])\n",
    "print(\"Mean: {}, Std: {}\".format(X_RwNorm_r.mean(), X_RwNorm_r.std()))"
   ]
  },
  {
   "cell_type": "markdown",
   "metadata": {},
   "source": [
    "### B. Eigendecomposition"
   ]
  },
  {
   "cell_type": "code",
   "execution_count": 537,
   "metadata": {},
   "outputs": [
    {
     "data": {
      "text/plain": [
       "438"
      ]
     },
     "execution_count": 537,
     "metadata": {},
     "output_type": "execute_result"
    }
   ],
   "source": [
    "nx.number_connected_components(gnx)"
   ]
  },
  {
   "cell_type": "code",
   "execution_count": 538,
   "metadata": {},
   "outputs": [],
   "source": [
    "l, v = np.linalg.eigh(nx.normalized_laplacian_matrix(gnx).A + 0.0001)\n",
    "l[np.where(l < 1e-10)] = 0\n",
    "idx = l.argsort()   \n",
    "l = l[idx]\n",
    "v = v[:,idx]"
   ]
  },
  {
   "cell_type": "code",
   "execution_count": 545,
   "metadata": {},
   "outputs": [
    {
     "data": {
      "text/plain": [
       "0.5114935520000037"
      ]
     },
     "execution_count": 545,
     "metadata": {},
     "output_type": "execute_result"
    }
   ],
   "source": [
    "v = torch.Tensor(v).float()\n",
    "rayleigh_i(v, normed_adj[2], 1000)"
   ]
  },
  {
   "cell_type": "code",
   "execution_count": 546,
   "metadata": {},
   "outputs": [
    {
     "data": {
      "text/plain": [
       "<matplotlib.axes._subplots.AxesSubplot at 0x7efd900ce450>"
      ]
     },
     "execution_count": 546,
     "metadata": {},
     "output_type": "execute_result"
    },
    {
     "data": {
      "image/png": "[encoded data removed]",
      "text/plain": [
       "<Figure size 1080x360 with 1 Axes>"
      ]
     },
     "metadata": {
      "needs_background": "light"
     },
     "output_type": "display_data"
    }
   ],
   "source": [
    "plt.figure(figsize=(15,5))\n",
    "sns.distplot(l, bins=200, kde=False, rug=False)"
   ]
  },
  {
   "cell_type": "markdown",
   "metadata": {},
   "source": [
    "# Pubmed"
   ]
  },
  {
   "cell_type": "markdown",
   "metadata": {},
   "source": [
    "### A. Matching Rayleigh quotient"
   ]
  },
  {
   "cell_type": "code",
   "execution_count": 515,
   "metadata": {},
   "outputs": [],
   "source": [
    "gnx, normed_adj, X, y, idx_train, idx_val, idx_test = \\\n",
    "            load_data(\"pubmed\", ['', \"RwNorm\", \"SymNormLap\", \"AbsRwNormAdj\"])"
   ]
  },
  {
   "cell_type": "code",
   "execution_count": 517,
   "metadata": {},
   "outputs": [
    {
     "name": "stdout",
     "output_type": "stream",
     "text": [
      "Mean: 0.2543236723254429, Std: 0.2554629888099532\n"
     ]
    }
   ],
   "source": [
    "yoh = F.one_hot(y, num_classes=6).float()\n",
    "labels_r = np.array([rayleigh_i(yoh, normed_adj[2], i) for i in range(6)])\n",
    "print(\"Mean: {}, Std: {}\".format(labels_r.mean(), labels_r.std()))"
   ]
  },
  {
   "cell_type": "code",
   "execution_count": 518,
   "metadata": {},
   "outputs": [
    {
     "name": "stdout",
     "output_type": "stream",
     "text": [
      "Mean: 0.8671004615600176, Std: 0.07000272088299465\n"
     ]
    }
   ],
   "source": [
    "X_r = np.array([rayleigh_i(X, normed_adj[2], i) for i in range(500)])\n",
    "print(\"Mean: {}, Std: {}\".format(X_r.mean(), X_r.std()))"
   ]
  },
  {
   "cell_type": "code",
   "execution_count": 520,
   "metadata": {},
   "outputs": [
    {
     "name": "stdout",
     "output_type": "stream",
     "text": [
      "Mean: 0.6916697668831758, Std: 0.07310921154793198\n"
     ]
    }
   ],
   "source": [
    "X_RwNorm = feature_transform(normed_adj[1], X, k=1)\n",
    "X_RwNorm_r = np.array([rayleigh_i(X_RwNorm, normed_adj[2], i) for i in range(500)])\n",
    "print(\"Mean: {}, Std: {}\".format(X_RwNorm_r.mean(), X_RwNorm_r.std()))"
   ]
  },
  {
   "cell_type": "code",
   "execution_count": 522,
   "metadata": {},
   "outputs": [
    {
     "name": "stdout",
     "output_type": "stream",
     "text": [
      "Mean: 0.4986617145943691, Std: 0.04280482903423631\n"
     ]
    }
   ],
   "source": [
    "X_RwNorm = feature_transform(normed_adj[1], X, k=2)\n",
    "X_RwNorm_r = np.array([rayleigh_i(X_RwNorm, normed_adj[2], i) for i in range(500)])\n",
    "print(\"Mean: {}, Std: {}\".format(X_RwNorm_r.mean(), X_RwNorm_r.std()))"
   ]
  },
  {
   "cell_type": "code",
   "execution_count": 529,
   "metadata": {},
   "outputs": [
    {
     "name": "stdout",
     "output_type": "stream",
     "text": [
      "Mean: 0.3719364095902638, Std: 0.015110402967608908\n"
     ]
    }
   ],
   "source": [
    "X_RwNorm = feature_transform(normed_adj[1], X, k=40)\n",
    "X_RwNorm_r = np.array([rayleigh_i(X_RwNorm, normed_adj[2], i) for i in range(500)])\n",
    "print(\"Mean: {}, Std: {}\".format(X_RwNorm_r.mean(), X_RwNorm_r.std()))"
   ]
  },
  {
   "cell_type": "code",
   "execution_count": null,
   "metadata": {},
   "outputs": [],
   "source": []
  }
 ],
 "metadata": {
  "kernelspec": {
   "display_name": "Python 3",
   "language": "python",
   "name": "python3"
  },
  "language_info": {
   "codemirror_mode": {
    "name": "ipython",
    "version": 3
   },
   "file_extension": ".py",
   "mimetype": "text/x-python",
   "name": "python",
   "nbconvert_exporter": "python",
   "pygments_lexer": "ipython3",
   "version": "3.7.7"
  }
 },
 "nbformat": 4,
 "nbformat_minor": 4
}
