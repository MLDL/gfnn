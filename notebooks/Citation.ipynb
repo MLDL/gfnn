{
 "cells": [
  {
   "cell_type": "code",
   "execution_count": 1,
   "metadata": {},
   "outputs": [],
   "source": [
    "%load_ext autoreload\n",
    "%autoreload 2\n",
    "%matplotlib inline"
   ]
  },
  {
   "cell_type": "code",
   "execution_count": 2,
   "metadata": {},
   "outputs": [],
   "source": [
    "import sys\n",
    "import os\n",
    "sys.path.append(\"..\")"
   ]
  },
  {
   "cell_type": "code",
   "execution_count": 3,
   "metadata": {},
   "outputs": [],
   "source": [
    "from utils import load_citation, sgc_precompute\n",
    "import numpy as np\n",
    "import torch\n",
    "import torch.nn.functional as F\n",
    "import torch.optim as optim\n",
    "import pickle as pkl\n",
    "from train import train_gfnn"
   ]
  },
  {
   "cell_type": "markdown",
   "metadata": {},
   "source": [
    "# Cora"
   ]
  },
  {
   "cell_type": "code",
   "execution_count": 43,
   "metadata": {},
   "outputs": [],
   "source": [
    "adj, features, labels, idx_train,\\\n",
    "idx_val, idx_test = load_citation(\"cora\",\n",
    "                                  \"LeftNorm\",\n",
    "                                  False,\n",
    "                                  0.6,\n",
    "                                  False)"
   ]
  },
  {
   "cell_type": "code",
   "execution_count": 44,
   "metadata": {},
   "outputs": [],
   "source": [
    "feature, _ = sgc_precompute(features, adj, 2)"
   ]
  },
  {
   "cell_type": "code",
   "execution_count": 45,
   "metadata": {},
   "outputs": [],
   "source": [
    "from sklearn.ensemble import RandomForestClassifier"
   ]
  },
  {
   "cell_type": "code",
   "execution_count": 46,
   "metadata": {},
   "outputs": [],
   "source": [
    "X = feature.numpy()\n",
    "y = labels.numpy()\n",
    "idx_train = idx_train.numpy()\n",
    "idx_val = idx_val.numpy()\n",
    "idx_test = idx_test.numpy()"
   ]
  },
  {
   "cell_type": "code",
   "execution_count": 47,
   "metadata": {},
   "outputs": [],
   "source": [
    "clf = RandomForestClassifier(n_estimators=100)"
   ]
  },
  {
   "cell_type": "code",
   "execution_count": 48,
   "metadata": {},
   "outputs": [
    {
     "data": {
      "text/plain": [
       "RandomForestClassifier(bootstrap=True, class_weight=None, criterion='gini',\n",
       "                       max_depth=None, max_features='auto', max_leaf_nodes=None,\n",
       "                       min_impurity_decrease=0.0, min_impurity_split=None,\n",
       "                       min_samples_leaf=1, min_samples_split=2,\n",
       "                       min_weight_fraction_leaf=0.0, n_estimators=100,\n",
       "                       n_jobs=None, oob_score=False, random_state=None,\n",
       "                       verbose=0, warm_start=False)"
      ]
     },
     "execution_count": 48,
     "metadata": {},
     "output_type": "execute_result"
    }
   ],
   "source": [
    "clf.fit(X[idx_train], y[idx_train])"
   ]
  },
  {
   "cell_type": "code",
   "execution_count": 49,
   "metadata": {},
   "outputs": [
    {
     "data": {
      "text/plain": [
       "0.781"
      ]
     },
     "execution_count": 49,
     "metadata": {},
     "output_type": "execute_result"
    }
   ],
   "source": [
    "clf.score(X[idx_test], y[idx_test])"
   ]
  },
  {
   "cell_type": "code",
   "execution_count": 50,
   "metadata": {},
   "outputs": [],
   "source": [
    "from sklearn.svm import SVC"
   ]
  },
  {
   "cell_type": "code",
   "execution_count": 51,
   "metadata": {},
   "outputs": [],
   "source": [
    "clf = SVC(C=1000.0, gamma=0.2, class_weight=\"balanced\")"
   ]
  },
  {
   "cell_type": "code",
   "execution_count": 52,
   "metadata": {},
   "outputs": [
    {
     "data": {
      "text/plain": [
       "SVC(C=1000.0, cache_size=200, class_weight='balanced', coef0=0.0,\n",
       "    decision_function_shape='ovr', degree=3, gamma=0.2, kernel='rbf',\n",
       "    max_iter=-1, probability=False, random_state=None, shrinking=True,\n",
       "    tol=0.001, verbose=False)"
      ]
     },
     "execution_count": 52,
     "metadata": {},
     "output_type": "execute_result"
    }
   ],
   "source": [
    "clf.fit(X[idx_train], y[idx_train])"
   ]
  },
  {
   "cell_type": "code",
   "execution_count": 53,
   "metadata": {},
   "outputs": [
    {
     "data": {
      "text/plain": [
       "0.792"
      ]
     },
     "execution_count": 53,
     "metadata": {},
     "output_type": "execute_result"
    }
   ],
   "source": [
    "clf.score(X[idx_test], y[idx_test])"
   ]
  },
  {
   "cell_type": "code",
   "execution_count": 54,
   "metadata": {},
   "outputs": [
    {
     "name": "stdout",
     "output_type": "stream",
     "text": [
      "1.0 0.01 0.433\n",
      "1.0 0.1 0.433\n",
      "1.0 0.2 0.433\n",
      "1.0 0.5 0.437\n",
      "1.0 1.0 0.445\n",
      "10.0 0.01 0.433\n",
      "10.0 0.1 0.433\n",
      "10.0 0.2 0.433\n",
      "10.0 0.5 0.474\n",
      "10.0 1.0 0.759\n",
      "100.0 0.01 0.433\n",
      "100.0 0.1 0.766\n",
      "100.0 0.2 0.788\n",
      "100.0 0.5 0.798\n",
      "100.0 1.0 0.795\n",
      "1000.0 0.01 0.768\n",
      "1000.0 0.1 0.793\n",
      "1000.0 0.2 0.792\n",
      "1000.0 0.5 0.789\n",
      "1000.0 1.0 0.788\n"
     ]
    }
   ],
   "source": [
    "for C in [1.0, 10.0, 100.0, 1000.0]:\n",
    "    for g in [0.01, 0.1, 0.2, 0.5, 1.0]:\n",
    "        clf = SVC(C=C, gamma=g, class_weight=\"balanced\")\n",
    "        clf.fit(X[idx_train], y[idx_train])\n",
    "        print(C, g, clf.score(X[idx_test], y[idx_test]))"
   ]
  },
  {
   "cell_type": "code",
   "execution_count": 103,
   "metadata": {},
   "outputs": [
    {
     "name": "stdout",
     "output_type": "stream",
     "text": [
      "20 0.01 0.431\n",
      "20 0.1 0.431\n",
      "20 0.2 0.431\n",
      "20 0.5 0.755\n",
      "20 1.0 0.783\n",
      "30 0.01 0.431\n",
      "30 0.1 0.431\n",
      "30 0.2 0.537\n",
      "30 0.5 0.774\n",
      "30 1.0 0.795\n",
      "50 0.01 0.431\n",
      "50 0.1 0.448\n",
      "50 0.2 0.754\n",
      "50 0.5 0.794\n",
      "50 1.0 0.798\n",
      "100.0 0.01 0.431\n",
      "100.0 0.1 0.755\n",
      "100.0 0.2 0.784\n",
      "100.0 0.5 0.798\n",
      "100.0 1.0 0.801\n",
      "150 0.01 0.431\n",
      "150 0.1 0.777\n",
      "150 0.2 0.798\n",
      "150 0.5 0.798\n",
      "150 1.0 0.8\n",
      "200 0.01 0.431\n",
      "200 0.1 0.785\n",
      "200 0.2 0.802\n",
      "200 0.5 0.8\n",
      "200 1.0 0.796\n"
     ]
    }
   ],
   "source": [
    "for C in [20, 30, 50, 100.0, 150, 200]:\n",
    "    for g in [0.01, 0.1, 0.2, 0.5, 1.0]:\n",
    "        clf = SVC(C=C, gamma=g, class_weight=\"balanced\")\n",
    "        clf.fit(X[idx_train], y[idx_train])\n",
    "        print(C, g, clf.score(X[idx_test], y[idx_test]))"
   ]
  },
  {
   "cell_type": "code",
   "execution_count": 104,
   "metadata": {},
   "outputs": [
    {
     "name": "stdout",
     "output_type": "stream",
     "text": [
      "100.0 1.0 0.801\n",
      "100.0 1.2 0.804\n",
      "100.0 1.5 0.8\n",
      "100.0 2.0 0.792\n",
      "100.0 4.0 0.794\n",
      "110 1.0 0.804\n",
      "110 1.2 0.802\n",
      "110 1.5 0.8\n",
      "110 2.0 0.795\n",
      "110 4.0 0.793\n",
      "120 1.0 0.804\n",
      "120 1.2 0.8\n",
      "120 1.5 0.799\n",
      "120 2.0 0.791\n",
      "120 4.0 0.795\n"
     ]
    }
   ],
   "source": [
    "for C in [100.0, 110, 120]:\n",
    "    for g in [1.0, 1.2, 1.5, 2.0, 4.0]:\n",
    "        clf = SVC(C=C, gamma=g, class_weight=\"balanced\")\n",
    "        clf.fit(X[idx_train], y[idx_train])\n",
    "        print(C, g, clf.score(X[idx_test], y[idx_test]))"
   ]
  },
  {
   "cell_type": "code",
   "execution_count": null,
   "metadata": {},
   "outputs": [],
   "source": []
  },
  {
   "cell_type": "code",
   "execution_count": null,
   "metadata": {},
   "outputs": [],
   "source": []
  },
  {
   "cell_type": "code",
   "execution_count": null,
   "metadata": {},
   "outputs": [],
   "source": []
  },
  {
   "cell_type": "code",
   "execution_count": null,
   "metadata": {},
   "outputs": [],
   "source": []
  },
  {
   "cell_type": "code",
   "execution_count": 55,
   "metadata": {},
   "outputs": [],
   "source": [
    "from hpsklearn import HyperoptEstimator, svc\n",
    "from sklearn import svm"
   ]
  },
  {
   "cell_type": "code",
   "execution_count": 56,
   "metadata": {},
   "outputs": [],
   "source": [
    "estim = HyperoptEstimator(classifier=svc('mySVC'))"
   ]
  },
  {
   "cell_type": "code",
   "execution_count": 59,
   "metadata": {},
   "outputs": [
    {
     "name": "stdout",
     "output_type": "stream",
     "text": [
      "100%|██████████| 1/1 [00:00<00:00,  2.51trial/s, best loss: 0.15625]\n",
      "100%|██████████| 2/2 [00:00<00:00,  2.26trial/s, best loss: 0.15625]\n",
      "100%|██████████| 3/3 [00:00<00:00,  4.38trial/s, best loss: 0.15625]\n",
      "100%|██████████| 4/4 [00:00<00:00,  5.88trial/s, best loss: 0.15625]\n",
      "100%|██████████| 5/5 [00:00<00:00,  6.48trial/s, best loss: 0.15625]\n",
      "100%|██████████| 6/6 [00:00<00:00, 75.36trial/s, best loss: 0.15625]\n",
      "100%|██████████| 7/7 [00:00<00:00, 12.78trial/s, best loss: 0.15625]\n",
      "100%|██████████| 8/8 [00:00<00:00, 11.23trial/s, best loss: 0.15625]\n",
      "100%|██████████| 9/9 [00:00<00:00, 12.84trial/s, best loss: 0.15625]\n",
      "100%|██████████| 10/10 [00:00<00:00, 11.66trial/s, best loss: 0.15625]\n"
     ]
    }
   ],
   "source": [
    "estim.fit(X[np.concatenate((idx_train, idx_val))], y[np.concatenate((idx_train, idx_val))])"
   ]
  },
  {
   "cell_type": "code",
   "execution_count": 60,
   "metadata": {},
   "outputs": [
    {
     "name": "stdout",
     "output_type": "stream",
     "text": [
      "0.829\n"
     ]
    }
   ],
   "source": [
    "print(estim.score(X[idx_test], y[idx_test]))"
   ]
  },
  {
   "cell_type": "code",
   "execution_count": null,
   "metadata": {},
   "outputs": [],
   "source": []
  },
  {
   "cell_type": "code",
   "execution_count": null,
   "metadata": {},
   "outputs": [],
   "source": []
  },
  {
   "cell_type": "code",
   "execution_count": null,
   "metadata": {},
   "outputs": [],
   "source": []
  },
  {
   "cell_type": "code",
   "execution_count": null,
   "metadata": {},
   "outputs": [],
   "source": []
  },
  {
   "cell_type": "markdown",
   "metadata": {},
   "source": [
    "# Citeseer"
   ]
  },
  {
   "cell_type": "code",
   "execution_count": 19,
   "metadata": {},
   "outputs": [
    {
     "name": "stderr",
     "output_type": "stream",
     "text": [
      "../normalization.py:73: RuntimeWarning: divide by zero encountered in power\n",
      "  r_inv = np.power(rowsum, -1).flatten()\n"
     ]
    }
   ],
   "source": [
    "adj, features, labels, idx_train,\\\n",
    "idx_val, idx_test = load_citation(\"citeseer\",\n",
    "                                  \"LeftNorm\",\n",
    "                                  False,\n",
    "                                  0.6,\n",
    "                                  False)\n",
    "feature, _ = sgc_precompute(features, adj, 2)\n",
    "\n",
    "X = feature.numpy()\n",
    "y = labels.numpy()\n",
    "idx_train = idx_train.numpy()\n",
    "idx_val = idx_val.numpy()\n",
    "idx_test = idx_test.numpy()"
   ]
  },
  {
   "cell_type": "code",
   "execution_count": 20,
   "metadata": {},
   "outputs": [],
   "source": [
    "estim = HyperoptEstimator(classifier=svc('mySVC'))"
   ]
  },
  {
   "cell_type": "code",
   "execution_count": 21,
   "metadata": {},
   "outputs": [
    {
     "name": "stdout",
     "output_type": "stream",
     "text": [
      "100%|██████████| 1/1 [00:01<00:00,  1.88s/trial, best loss: 0.7983870967741935]\n",
      "100%|██████████| 2/2 [00:01<00:00,  1.18trial/s, best loss: 0.7983870967741935]\n",
      "100%|██████████| 3/3 [00:00<00:00, 35.36trial/s, best loss: 0.7983870967741935]\n",
      "100%|██████████| 4/4 [00:00<00:00, 34.29trial/s, best loss: 0.7983870967741935]\n",
      "100%|██████████| 5/5 [00:01<00:00,  2.73trial/s, best loss: 0.7983870967741935]\n",
      "100%|██████████| 6/6 [00:00<00:00, 36.04trial/s, best loss: 0.7983870967741935]\n",
      "100%|██████████| 7/7 [00:01<00:00,  3.69trial/s, best loss: 0.3629032258064516]\n",
      "100%|██████████| 8/8 [00:01<00:00,  5.06trial/s, best loss: 0.217741935483871]\n",
      "100%|██████████| 9/9 [00:01<00:00,  5.62trial/s, best loss: 0.17741935483870963]\n",
      "100%|██████████| 10/10 [00:01<00:00,  5.84trial/s, best loss: 0.17741935483870963]\n"
     ]
    }
   ],
   "source": [
    "estim.fit(X[np.concatenate((idx_train, idx_val))], y[np.concatenate((idx_train, idx_val))])"
   ]
  },
  {
   "cell_type": "code",
   "execution_count": 22,
   "metadata": {},
   "outputs": [
    {
     "name": "stdout",
     "output_type": "stream",
     "text": [
      "0.723\n"
     ]
    }
   ],
   "source": [
    "print(estim.score(X[idx_test], y[idx_test]))"
   ]
  },
  {
   "cell_type": "code",
   "execution_count": null,
   "metadata": {},
   "outputs": [],
   "source": []
  },
  {
   "cell_type": "code",
   "execution_count": null,
   "metadata": {},
   "outputs": [],
   "source": []
  },
  {
   "cell_type": "code",
   "execution_count": null,
   "metadata": {},
   "outputs": [],
   "source": []
  },
  {
   "cell_type": "code",
   "execution_count": null,
   "metadata": {},
   "outputs": [],
   "source": []
  },
  {
   "cell_type": "markdown",
   "metadata": {},
   "source": [
    "# Pubmed"
   ]
  },
  {
   "cell_type": "code",
   "execution_count": 23,
   "metadata": {},
   "outputs": [],
   "source": [
    "adj, features, labels, idx_train,\\\n",
    "idx_val, idx_test = load_citation(\"pubmed\",\n",
    "                                  \"LeftNorm\",\n",
    "                                  False,\n",
    "                                  0.6,\n",
    "                                  False)\n",
    "feature, _ = sgc_precompute(features, adj, 2)\n",
    "\n",
    "X = feature.numpy()\n",
    "y = labels.numpy()\n",
    "idx_train = idx_train.numpy()\n",
    "idx_val = idx_val.numpy()\n",
    "idx_test = idx_test.numpy()"
   ]
  },
  {
   "cell_type": "code",
   "execution_count": 24,
   "metadata": {},
   "outputs": [],
   "source": [
    "estim = HyperoptEstimator(classifier=svc('mySVC'))"
   ]
  },
  {
   "cell_type": "code",
   "execution_count": 27,
   "metadata": {},
   "outputs": [
    {
     "name": "stdout",
     "output_type": "stream",
     "text": [
      "100%|██████████| 1/1 [00:00<00:00,  5.37trial/s, best loss: 0.5803571428571428]\n",
      "100%|██████████| 2/2 [00:00<00:00, 26.96trial/s, best loss: 0.5803571428571428]\n",
      "100%|██████████| 3/3 [00:03<00:00,  1.09s/trial, best loss: 0.2410714285714286]\n",
      "100%|██████████| 4/4 [00:00<00:00, 36.79trial/s, best loss: 0.1964285714285714]\n",
      "100%|██████████| 5/5 [00:00<00:00, 26.31trial/s, best loss: 0.1964285714285714]\n",
      "100%|██████████| 6/6 [00:00<00:00, 57.28trial/s, best loss: 0.1875]\n",
      "100%|██████████| 7/7 [00:00<00:00, 108.31trial/s, best loss: 0.1875]\n",
      "100%|██████████| 8/8 [00:00<00:00, 69.76trial/s, best loss: 0.1875]\n",
      "100%|██████████| 9/9 [00:00<00:00, 45.30trial/s, best loss: 0.1875]\n",
      "100%|██████████| 10/10 [00:00<00:00, 97.08trial/s, best loss: 0.1875]\n"
     ]
    }
   ],
   "source": [
    "estim.fit(X[np.concatenate((idx_train, idx_val))], y[np.concatenate((idx_train, idx_val))])"
   ]
  },
  {
   "cell_type": "code",
   "execution_count": 28,
   "metadata": {},
   "outputs": [
    {
     "name": "stdout",
     "output_type": "stream",
     "text": [
      "0.815\n"
     ]
    }
   ],
   "source": [
    "print(estim.score(X[idx_test], y[idx_test]))"
   ]
  },
  {
   "cell_type": "code",
   "execution_count": 30,
   "metadata": {},
   "outputs": [
    {
     "data": {
      "text/plain": [
       "{'learner': SVC(C=280.7917446209502, cache_size=512, class_weight=None, coef0=0.0,\n",
       "     decision_function_shape='ovr', degree=1, gamma='auto', kernel='linear',\n",
       "     max_iter=175126193.0, probability=False, random_state=0, shrinking=False,\n",
       "     tol=0.001269905373417759, verbose=False),\n",
       " 'preprocs': (),\n",
       " 'ex_preprocs': ()}"
      ]
     },
     "execution_count": 30,
     "metadata": {},
     "output_type": "execute_result"
    }
   ],
   "source": [
    "estim.best_model()"
   ]
  },
  {
   "cell_type": "code",
   "execution_count": 37,
   "metadata": {},
   "outputs": [],
   "source": [
    "clf = SVC(C=280.7917446209502, cache_size=512, class_weight=None, coef0=0.0,\n",
    "     decision_function_shape='ovr', degree=1, gamma='auto', kernel='linear',\n",
    "     max_iter=175126193.0, probability=False, random_state=0, shrinking=False,\n",
    "     tol=0.001269905373417759, verbose=False)"
   ]
  },
  {
   "cell_type": "code",
   "execution_count": 41,
   "metadata": {},
   "outputs": [
    {
     "data": {
      "text/plain": [
       "SVC(C=280.7917446209502, cache_size=512, class_weight=None, coef0=0.0,\n",
       "    decision_function_shape='ovr', degree=1, gamma='auto', kernel='linear',\n",
       "    max_iter=175126193.0, probability=False, random_state=0, shrinking=False,\n",
       "    tol=0.001269905373417759, verbose=False)"
      ]
     },
     "execution_count": 41,
     "metadata": {},
     "output_type": "execute_result"
    }
   ],
   "source": [
    "clf.fit(X[np.concatenate((idx_train,idx_val))], y[np.concatenate((idx_train,idx_val))])"
   ]
  },
  {
   "cell_type": "code",
   "execution_count": 42,
   "metadata": {},
   "outputs": [
    {
     "name": "stdout",
     "output_type": "stream",
     "text": [
      "0.815\n"
     ]
    }
   ],
   "source": [
    "print(clf.score(X[idx_test], y[idx_test]))"
   ]
  },
  {
   "cell_type": "code",
   "execution_count": null,
   "metadata": {},
   "outputs": [],
   "source": []
  }
 ],
 "metadata": {
  "kernelspec": {
   "display_name": "Python 3",
   "language": "python",
   "name": "python3"
  },
  "language_info": {
   "codemirror_mode": {
    "name": "ipython",
    "version": 3
   },
   "file_extension": ".py",
   "mimetype": "text/x-python",
   "name": "python",
   "nbconvert_exporter": "python",
   "pygments_lexer": "ipython3",
   "version": "3.7.3"
  }
 },
 "nbformat": 4,
 "nbformat_minor": 2
}
